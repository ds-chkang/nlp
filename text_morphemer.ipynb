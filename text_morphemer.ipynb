{
 "cells": [
  {
   "cell_type": "code",
   "execution_count": 1,
   "id": "970acda9",
   "metadata": {},
   "outputs": [],
   "source": [
    "import os\n",
    "from konlpy.tag import Mecab\n",
    "from collections import Counter\n",
    "import re\n",
    "from wordcloud import WordCloud\n",
    "from collections import Counter\n",
    "import pandas as pd\n",
    "import warnings\n",
    "warnings.filterwarnings('ignore') # setting ignore as a parameter"
   ]
  },
  {
   "cell_type": "code",
   "execution_count": 2,
   "id": "d9ea9465",
   "metadata": {},
   "outputs": [],
   "source": [
    "try:\n",
    "    global cleansed_data\n",
    "    cleansed_data = ''\n",
    "    with open('C:\\\\Users\\\\dschk\\\\Desktop\\\\netmarble\\\\data\\\\cleansed_data.txt', 'r', encoding='utf-8') as a:\n",
    "        for line in a:\n",
    "            cleansed_data += line\n",
    "except Exception as e:\n",
    "    print(e)"
   ]
  },
  {
   "cell_type": "code",
   "execution_count": 3,
   "id": "cdedc8cb",
   "metadata": {},
   "outputs": [
    {
     "name": "stdout",
     "output_type": "stream",
     "text": [
      "근데 태오 불굴말이야패시븐데 쿨타임 없는거 불굴 터고 힐로 피채우고 다시터고 쿨타임 표기가 없던데 실화인가 데미 퍼가 넘사에요 근데기가 글만보면 면역같던데 기도 다피하면서 저불가로 돌격해오는데 롤로 치면 마스터이가 올라프궁키면서 달려오는거라 밸런스가 불스파때보다 더 망가질거같아요 하겠 근데 문제가 대에 뺑뺑이 돌면 이제 같뭐 다 상관없는데각 영웅 벨런스 패치는 좀 급한데 안해주나요 게임에 돈 안쓰는 유저라 패키 뭘 출시하던 신경 안쓰는데 벨패좀 해주세요그고 유저들 목소좀헛소도 많겠만 반이라도 들어주세요 소통좀중요한건 게임이 재미 없는데 이 악랄해팀 매칭이 더 재미 없어 싱글은 소탕이야 이게 무슨 임섭주랑 랭커 위 대부분 계정 정하고 있는데니네는 업뎃하면서 드는 각이 없을까 없 그니까 넷마블이 바로템랭커파는거 찾고있는데 없던데요망랭커형님들 어짜피 히트 넘어가실꺼죠 매니아 공급만 있고 수요없어서 회수도 안될텐데 그돈 그냥 다른겜에쓰세요 어짜피 형님들 돈많아서 신경도 안쓰시겠만 그래도 같은 돈마블에게 경각심이라도 일깨워줘야 하않겠습니까 넘어가야죠고수님들 뭐부터 키워야하나요 조언 부탁드립니다 해드릴께요 언능 다른게임으로 튀세요접으셈추천망접으시면 됩니다 망겜현질하는 사람들 잘들어 곧 추석이야 그 돈으로 따뜻한 한가위에다가 써넷마블 개객끼 소환자 누가 양쪽 다 박아놔서 못감누가싸고감코스튬 정해줌조합이벤트에 희귀코스튬 장인가 해줄거임 이말은 즉 한정판매코스튬희귀 모자 상의 각 장씩 제작하고 장은 꼴는거 하나 더 제작해라 문제는 전설코스튬 획득처가 현금술결장 시즌제랭커보상  이번 한정코스튬이라 결국은 현금술이란건데 전설코튬 수급처를 늘려주던 그냥 일반 희귀처럼 루비로도 살수있게해줘라 코튬 보유효과있는겜한정아니고 루비로 살수있게 해주면 이정도는 아닐듯이 방식이라면 그냥 코스튬 나오면 닥치고 현금 질러야됨 코튬 외형 마음에도 안드는데맞 루비로살수있는게해주던 그외 수급처를 늘던해야비쌈희귀 장이 천루비인데 뽑한다고 님덱 쌔질거같음뭐라는거야 희귀말하는거잖어 전설코튬 금 만에 팔잖우아\n"
     ]
    }
   ],
   "source": [
    "print(cleansed_data[0:1000])"
   ]
  },
  {
   "cell_type": "code",
   "execution_count": 30,
   "id": "b290f5a1",
   "metadata": {},
   "outputs": [],
   "source": [
    "try:\n",
    "    global mecab\n",
    "    mecab = Mecab(\"C:\\\\mecab\\\\mecab-ko-dic\")\n",
    "except Exception as e:\n",
    "    print(e)"
   ]
  },
  {
   "cell_type": "code",
   "execution_count": 31,
   "id": "8914f43b",
   "metadata": {},
   "outputs": [],
   "source": [
    "try:\n",
    "    # 미캡 형태소 분석\n",
    "    global posed_words\n",
    "    posed_words = mecab.pos(cleansed_data)\n",
    "    # 단어가 많아 명사로 태깅된 부분만 추출\n",
    "    global noun_words\n",
    "    noun_words = []\n",
    "    for t in posed_words:\n",
    "        if t[1] == 'NNG': # or t[1] == 'VA+ETM' or t[1] == 'VV+EC' or t[1] == 'VA+EC' or t[1] == 'VA':\n",
    "            noun_words.append(t[0])\n",
    "except Exception as e:\n",
    "    print(e)"
   ]
  },
  {
   "cell_type": "code",
   "execution_count": 33,
   "id": "a7e1ab50",
   "metadata": {},
   "outputs": [],
   "source": [
    "try:\n",
    "    morphemed_data = 'C:\\\\Users\\\\dschk\\\\Desktop\\\\netmarble\\\\data\\\\morphemed_content.txt'\n",
    "    morphemed_data = open(morphemed_data, 'w', encoding='utf-8')\n",
    "    for noun_word in noun_words:\n",
    "        morphemed_data.write(noun_word + '\\n')\n",
    "    morphemed_data.close()\n",
    "except Exception as e:\n",
    "    print(e)"
   ]
  },
  {
   "cell_type": "code",
   "execution_count": null,
   "id": "1f8cd2b8",
   "metadata": {},
   "outputs": [],
   "source": []
  }
 ],
 "metadata": {
  "kernelspec": {
   "display_name": "Python 3 (ipykernel)",
   "language": "python",
   "name": "python3"
  },
  "language_info": {
   "codemirror_mode": {
    "name": "ipython",
    "version": 3
   },
   "file_extension": ".py",
   "mimetype": "text/x-python",
   "name": "python",
   "nbconvert_exporter": "python",
   "pygments_lexer": "ipython3",
   "version": "3.7.0"
  },
  "vscode": {
   "interpreter": {
    "hash": "8dcfc36ff451179460e271fbe81741d8b8354f8f03c559f56819ca6630fc9531"
   }
  }
 },
 "nbformat": 4,
 "nbformat_minor": 5
}
