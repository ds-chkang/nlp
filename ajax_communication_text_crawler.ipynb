{
 "cells": [
  {
   "cell_type": "code",
   "execution_count": 8,
   "id": "084eb83e",
   "metadata": {},
   "outputs": [
    {
     "name": "stdout",
     "output_type": "stream",
     "text": [
      "Collecting requests\n",
      "  Using cached requests-2.28.1-py3-none-any.whl (62 kB)\n",
      "Requirement already satisfied: idna<4,>=2.5 in c:\\users\\dschk\\.conda\\envs\\netmarble2\\lib\\site-packages (from requests) (3.4)\n",
      "Requirement already satisfied: certifi>=2017.4.17 in c:\\users\\dschk\\.conda\\envs\\netmarble2\\lib\\site-packages (from requests) (2022.9.14)\n",
      "Requirement already satisfied: urllib3<1.27,>=1.21.1 in c:\\users\\dschk\\.conda\\envs\\netmarble2\\lib\\site-packages (from requests) (1.26.12)\n",
      "Collecting charset-normalizer<3,>=2\n",
      "  Using cached charset_normalizer-2.1.1-py3-none-any.whl (39 kB)\n",
      "Installing collected packages: charset-normalizer, requests\n",
      "Successfully installed charset-normalizer-2.1.1 requests-2.28.1\n",
      "Note: you may need to restart the kernel to use updated packages.\n"
     ]
    }
   ],
   "source": [
    "pip install requests"
   ]
  },
  {
   "cell_type": "code",
   "execution_count": 9,
   "id": "fcecea24",
   "metadata": {},
   "outputs": [],
   "source": [
    "import requests\n",
    "import json\n",
    "import os\n",
    "import time\n",
    "\n",
    "from concurrent.futures import ThreadPoolExecutor\n",
    "from bs4 import BeautifulSoup"
   ]
  },
  {
   "cell_type": "code",
   "execution_count": 14,
   "id": "e9e45c2f",
   "metadata": {},
   "outputs": [],
   "source": [
    "def crawl_data(rows, start_from):\n",
    "    target_page = 'https://forum.netmarble.com/api/game/skrv/official/forum/skr/article/list?rows=' + str(rows) + '&start=' + str(start_from) + '&viewType=pv&menuSeq=16'\n",
    "    print(target_page)\n",
    "  \n",
    "    try:\n",
    "        page = requests.get(target_page)\n",
    "        json_page = json.loads(page.text)\n",
    "        json_page = json_page['articleList']\n",
    "        f_name = os.getcwd() + '\\\\crawled_text_data.txt'\n",
    "        \n",
    "        with open(f_name, \"a\", encoding='utf-8') as f:\n",
    "            \n",
    "            for _ in range(rows): # TOP COMMENTS\n",
    "                article_id = json_page[_]['id']\n",
    "                title = json_page[_]['title']\n",
    "                content = json_page[_]['content']\n",
    "                #f_name = os.getcwd() + '//' + str(article_id) \n",
    "                #f = open(f_name, \"w\", encoding='utf-8')\n",
    "                f.write(title)\n",
    "                f.write(content)\n",
    "\n",
    "                l1_comment_url = 'https://forum.netmarble.com/api/game/skrv/official/forum/skr/article/' + str(article_id) + '/comment/list?start=0&rows=51&menuSeq=16&articleId=' + str(article_id)\n",
    "                l1_page = requests.get(l1_comment_url)\n",
    "                l1_json_page = json.loads(l1_page.text)\n",
    "                l1_json_page = l1_json_page['commentList']\n",
    "\n",
    "                try:\n",
    "\n",
    "                    for l1_ in range(1000):\n",
    "                        parent_id = l1_json_page[l1_]['id']\n",
    "                        l1_content = l1_json_page[l1_]['content']\n",
    "\n",
    "                        if len(l1_content) > 1:\n",
    "                            #f1_f_name = os.getcwd() + '//' + str(article_id) + '-' + str(parent_id)\n",
    "                            #f1 = open(f1_f_name, \"a\", encoding='utf-8')\n",
    "\n",
    "                            htmlParse = BeautifulSoup(l1_content, 'html.parser')\n",
    "                            for para in htmlParse.find_all(\"p\"):\n",
    "                                f.write(para.get_text()[para.get_text().find(' ')+1:]) # 텍스트 앞에 있는 아이디 제거.\n",
    "\n",
    "                            #f.close()            \n",
    "                            l2_comment_url=\"https://forum.netmarble.com/api/game/skrv/official/forum/skr/article/\"+str(article_id)+\"/comment/list?start=0&rows=51&menuSeq=16&articleId=\"+str(article_id)+\"&parentId=\"+str(parent_id)\n",
    "                            l2_page = requests.get(l2_comment_url)\n",
    "                            l2_json_page = json.loads(l2_page.text)\n",
    "                            l2_json_page = l2_json_page['commentList']\n",
    "\n",
    "                            try:\n",
    "\n",
    "                                for l2_ in range(1000):\n",
    "                                    #l2_writer_id = l2_json_page[l2_]['id']\n",
    "                                    l2_content = l2_json_page[l2_]['content']   \n",
    "\n",
    "                                    if len(l2_content) > 1:                                            \n",
    "                                        #f2_f_name = os.getcwd() + '//' + str(article_id) + '-' + str(parent_id) + '-' + str(l2_writer_id)\n",
    "                                        #f2 = open(f2_f_name, \"w\", encoding='utf-8')\n",
    "                                        #f.write(l2_content)\n",
    "\n",
    "                                        htmlParse = BeautifulSoup(l2_content, 'html.parser')\n",
    "                                        for para in htmlParse.find_all(\"p\"):\n",
    "                                            f.write(para.get_text()[para.get_text().find(' ')+1:]) # 텍스트 앞에 있는 아이디 제거.\n",
    "\n",
    "                            except:\n",
    "                                pass\n",
    "\n",
    "                except:\n",
    "                    pass\n",
    "            f.close()\n",
    "            \n",
    "    except Exception as e:\n",
    "        print(e)\n",
    "        pass"
   ]
  },
  {
   "cell_type": "code",
   "execution_count": 15,
   "id": "82fe7b5d",
   "metadata": {},
   "outputs": [
    {
     "name": "stdout",
     "output_type": "stream",
     "text": [
      "https://forum.netmarble.com/api/game/skrv/official/forum/skr/article/list?rows=1000&start=2000&viewType=pv&menuSeq=16\n",
      "Elapsed Time: 212.45084190368652(초)\n"
     ]
    }
   ],
   "source": [
    "start_time = time.time()\n",
    "data_directory = 'c:\\\\users\\dschk\\\\desktop\\\\netmarble\\\\data\\\\'\n",
    "start_from = 2000 # 15,000번 부터 시작.\n",
    "rows = 1000 # 1000 개씩 최상위 댓글 가져옴.\n",
    "\n",
    "if os.getcwd() != data_directory:\n",
    "    os.chdir(data_directory)\n",
    "    \n",
    "if os.path.isdir(data_directory) is False:\n",
    "    os.mkdir(data_directory)    \n",
    "    \n",
    "crawl_data(rows, start_from)\n",
    "end_time = time.time()\n",
    "elapsed_time = end_time - start_time\n",
    "\n",
    "print(\"Elapsed Time: \" + str(elapsed_time) + '(초)')"
   ]
  },
  {
   "cell_type": "code",
   "execution_count": 6,
   "id": "310d1862",
   "metadata": {
    "cell_style": "split"
   },
   "outputs": [
    {
     "name": "stdout",
     "output_type": "stream",
     "text": [
      "3\n"
     ]
    }
   ],
   "source": [
    "print(1+2)"
   ]
  },
  {
   "cell_type": "code",
   "execution_count": 7,
   "id": "4d5b3e25",
   "metadata": {
    "cell_style": "split"
   },
   "outputs": [
    {
     "name": "stdout",
     "output_type": "stream",
     "text": [
      "5\n"
     ]
    }
   ],
   "source": [
    "print(3+2)"
   ]
  },
  {
   "cell_type": "code",
   "execution_count": null,
   "id": "497664f0",
   "metadata": {},
   "outputs": [],
   "source": []
  }
 ],
 "metadata": {
  "kernelspec": {
   "display_name": "Python 3 (ipykernel)",
   "language": "python",
   "name": "python3"
  },
  "language_info": {
   "codemirror_mode": {
    "name": "ipython",
    "version": 3
   },
   "file_extension": ".py",
   "mimetype": "text/x-python",
   "name": "python",
   "nbconvert_exporter": "python",
   "pygments_lexer": "ipython3",
   "version": "3.7.0"
  }
 },
 "nbformat": 4,
 "nbformat_minor": 5
}
